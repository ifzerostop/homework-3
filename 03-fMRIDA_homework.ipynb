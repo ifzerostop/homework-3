{
 "cells": [
  {
   "cell_type": "markdown",
   "metadata": {},
   "source": [
    "# Advanced fMRI data analysis \n",
    "## General Linear Model 1\n",
    "\n",
    "\n",
    "In this assignment, your task is to complete a few linear regression excercises in Python.\n",
    "\n",
    "You can choose to answer in Polish or English (it will not affect your grade).\n",
    "\n",
    "**DEADLINE:** 08-05-2020\n",
    "\n",
    "-------------------"
   ]
  },
  {
   "cell_type": "markdown",
   "metadata": {},
   "source": [
    "## Linear regression analysis with signals of non-neuronal origin"
   ]
  },
  {
   "cell_type": "markdown",
   "metadata": {},
   "source": [
    "*Confounds* (or nuisance regressors) are variables representing fluctuations with a potential non-neuronal origin. Such non-neuronal fluctuations may drive spurious results in fMRI data analysis, including standard activation GLM and functional connectivity analyses. Read [more](https://fmriprep.readthedocs.io/en/stable/outputs.html#confounds).\n",
    "\n",
    "Run simple and multiple linear regression to investigate associations between regressors.\n",
    "\n",
    "Confounds regressors calculated with *fMRIPrep* are stored in data folder (`/data/sub-01_task-rhymejudgment_desc-confounds_regressors.tsv`)"
   ]
  },
  {
   "cell_type": "markdown",
   "metadata": {},
   "source": [
    "### Task 1\n",
    "\n",
    "Investigate linear relationship between *global signal* (signal from the whole brain) and signal from *white matter*."
   ]
  },
  {
   "cell_type": "code",
   "execution_count": null,
   "metadata": {},
   "outputs": [],
   "source": [
    "# Load libraries\n",
    "\n"
   ]
  },
  {
   "cell_type": "code",
   "execution_count": null,
   "metadata": {},
   "outputs": [],
   "source": [
    "# Load DataFrame with confounds\n",
    "\n",
    "\n",
    "# Print all column names (use df.columns.values)\n",
    "\n"
   ]
  },
  {
   "cell_type": "code",
   "execution_count": 11,
   "metadata": {},
   "outputs": [],
   "source": [
    "# Select columns representing global signal and white matter signal\n",
    "\n",
    "\n",
    "# Plot association between these signals using on scatterplot\n",
    "\n"
   ]
  },
  {
   "cell_type": "code",
   "execution_count": null,
   "metadata": {},
   "outputs": [],
   "source": [
    "# Run simple linear regression for global signal and white matter signal\n",
    "\n",
    "\n",
    "# Print intercept and beta values\n",
    "\n"
   ]
  },
  {
   "cell_type": "code",
   "execution_count": 2,
   "metadata": {},
   "outputs": [],
   "source": [
    "# Make a scatterplot representing association between signals with fitted linear regression line\n",
    "\n"
   ]
  },
  {
   "cell_type": "markdown",
   "metadata": {},
   "source": [
    "### Task 2\n",
    "\n",
    "*Framewise displacement* variable in confounds table (stored as `framewise_displacement`) is a quantification of the estimated bulk-head motion. Run multiple linear regression to predict `framewise_displacement` from six motion parameters (3 rotations, 3 translations). Use previously loaded confounds table.\n"
   ]
  },
  {
   "cell_type": "code",
   "execution_count": null,
   "metadata": {},
   "outputs": [],
   "source": [
    "# Filter dataframe to store only 6 motion parameters\n",
    "\n",
    "\n",
    "# Filter dataframe to store framewise displacement\n",
    "\n"
   ]
  },
  {
   "cell_type": "code",
   "execution_count": null,
   "metadata": {},
   "outputs": [],
   "source": [
    "# Fit multiple linear regression model \n",
    "\n",
    "\n",
    "# Print intercept and beta values\n",
    "\n"
   ]
  },
  {
   "cell_type": "markdown",
   "metadata": {},
   "source": [
    "Which of the 6 motion parameter values has highest corresponding beta value?\n",
    "\n",
    "**Answer**: ..."
   ]
  },
  {
   "cell_type": "markdown",
   "metadata": {},
   "source": [
    "--------"
   ]
  },
  {
   "cell_type": "markdown",
   "metadata": {},
   "source": [
    "## Linear regression on movie/TV series characters profile pictures"
   ]
  },
  {
   "cell_type": "markdown",
   "metadata": {},
   "source": [
    "### Task 3"
   ]
  },
  {
   "cell_type": "markdown",
   "metadata": {},
   "source": [
    "In folder `data/characters` you can find pictures of 5 characters from Harry Potter movie stored as 400$\\times$400 numpy arrays (RED channel). \n",
    "\n",
    "Add your favourite movie/TV character from previous homework to the folder (array has to have the same dimension) and run multiple regression to predict your character from other other characters pictures. \n",
    "\n",
    "You can load more pictures to improve your prediction!!!\n"
   ]
  },
  {
   "cell_type": "code",
   "execution_count": 12,
   "metadata": {},
   "outputs": [],
   "source": [
    "# Load image of your favoutite character\n",
    "\n",
    "\n",
    "# Load pictures of other characters\n",
    "\n",
    "\n",
    "# Plot all pictures on a one figure (use plt.subplots)\n",
    "\n"
   ]
  },
  {
   "cell_type": "code",
   "execution_count": null,
   "metadata": {},
   "outputs": [],
   "source": [
    "# Make a matrix of characters (remember to change matrices to vectors and transpose).\n",
    "\n",
    "\n",
    "# Fit multiple linear regression to predict your favourite character from other characters\n",
    "\n",
    "\n",
    "# Print intercept and beta values\n",
    "\n"
   ]
  },
  {
   "cell_type": "code",
   "execution_count": 13,
   "metadata": {},
   "outputs": [],
   "source": [
    "# Calculate your predicted character\n",
    "\n",
    "\n",
    "# Plot your original character and predicted character on a one plot (use plt.subplots)\n",
    "\n"
   ]
  },
  {
   "cell_type": "markdown",
   "metadata": {},
   "source": [
    "Which of the characters has highest and lowest corresponding beta values?\n",
    "\n",
    "**Highest**: ...\n",
    "\n",
    "**Lowest**: ..."
   ]
  }
 ],
 "metadata": {
  "kernelspec": {
   "display_name": "Python 3",
   "language": "python",
   "name": "python3"
  },
  "language_info": {
   "codemirror_mode": {
    "name": "ipython",
    "version": 3
   },
   "file_extension": ".py",
   "mimetype": "text/x-python",
   "name": "python",
   "nbconvert_exporter": "python",
   "pygments_lexer": "ipython3",
   "version": "3.7.3"
  }
 },
 "nbformat": 4,
 "nbformat_minor": 2
}
